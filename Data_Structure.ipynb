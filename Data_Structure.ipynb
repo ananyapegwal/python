{
 "cells": [
  {
   "cell_type": "code",
   "execution_count": 1,
   "id": "1ad2bd53-7875-4cb5-bcd7-c24eadee1ed8",
   "metadata": {},
   "outputs": [
    {
     "data": {
      "text/plain": [
       "[1, 23.6, 'Hey', 12, 1]"
      ]
     },
     "execution_count": 1,
     "metadata": {},
     "output_type": "execute_result"
    }
   ],
   "source": [
    "##DATA STRUCTURE\n",
    "## list: elements are separated by comma and enclosed with square brackets\n",
    "##heterogenous\n",
    "###list can be retrived using index\n",
    "# Mutable: Can make the changes after creating the list"
   ]
  },
  {
   "cell_type": "code",
   "execution_count": 1,
   "id": "52c66ab2-fb30-4c4b-82df-866b73e1d8fa",
   "metadata": {},
   "outputs": [
    {
     "data": {
      "text/plain": [
       "[1, 23.6, 'Hey', 12, 1]"
      ]
     },
     "execution_count": 1,
     "metadata": {},
     "output_type": "execute_result"
    }
   ],
   "source": [
    "sample_list=[1,23.6,\"Hey\",12,1]\n",
    "sample_list"
   ]
  },
  {
   "cell_type": "code",
   "execution_count": 3,
   "id": "9c064263-282b-44e6-b9ec-afad8fada5d3",
   "metadata": {},
   "outputs": [
    {
     "data": {
      "text/plain": [
       "list"
      ]
     },
     "execution_count": 3,
     "metadata": {},
     "output_type": "execute_result"
    }
   ],
   "source": [
    "type(sample_list)"
   ]
  },
  {
   "cell_type": "code",
   "execution_count": 4,
   "id": "c664cdc2-bab8-4122-9c75-a63e58948310",
   "metadata": {},
   "outputs": [
    {
     "data": {
      "text/plain": [
       "23.6"
      ]
     },
     "execution_count": 4,
     "metadata": {},
     "output_type": "execute_result"
    }
   ],
   "source": [
    "sample_list[1]"
   ]
  },
  {
   "cell_type": "code",
   "execution_count": 5,
   "id": "4298bb00-ee9e-413d-ad81-aa3e86116f71",
   "metadata": {},
   "outputs": [
    {
     "data": {
      "text/plain": [
       "12"
      ]
     },
     "execution_count": 5,
     "metadata": {},
     "output_type": "execute_result"
    }
   ],
   "source": [
    "sample_list[-2]"
   ]
  },
  {
   "cell_type": "code",
   "execution_count": 9,
   "id": "4a83d271-5954-49dc-93ad-05bbd70eacfa",
   "metadata": {},
   "outputs": [
    {
     "data": {
      "text/plain": [
       "[1, 23.6, 'Hey', 'hello', 1]"
      ]
     },
     "execution_count": 9,
     "metadata": {},
     "output_type": "execute_result"
    }
   ],
   "source": [
    "sample_list[3]=\"hello\"\n",
    "sample_list"
   ]
  },
  {
   "cell_type": "code",
   "execution_count": null,
   "id": "51ec857e-2351-49b1-b9ca-00fc5b287eeb",
   "metadata": {},
   "outputs": [],
   "source": [
    "##Tuple\n",
    "##Heterogenous\n",
    "##Parenthesis\n",
    "##can retrieve the data using index\n",
    "##immutable\n",
    "## we can not change the tuple once it is created "
   ]
  },
  {
   "cell_type": "code",
   "execution_count": 10,
   "id": "4e2309dc-229a-40a3-8aec-7ea5c8a1a091",
   "metadata": {},
   "outputs": [
    {
     "data": {
      "text/plain": [
       "(1, 13.5, 'hi', 5, 98)"
      ]
     },
     "execution_count": 10,
     "metadata": {},
     "output_type": "execute_result"
    }
   ],
   "source": [
    "sample_tuple=(1,13.5,\"hi\",5,98)\n",
    "sample_tuple"
   ]
  },
  {
   "cell_type": "code",
   "execution_count": 11,
   "id": "8adcda3d-bdb4-4582-81bf-b08dee029f73",
   "metadata": {},
   "outputs": [
    {
     "data": {
      "text/plain": [
       "tuple"
      ]
     },
     "execution_count": 11,
     "metadata": {},
     "output_type": "execute_result"
    }
   ],
   "source": [
    "type(sample_tuple)"
   ]
  },
  {
   "cell_type": "code",
   "execution_count": 12,
   "id": "7d8e2465-8af4-43ba-9796-c8e4ac8c5597",
   "metadata": {},
   "outputs": [
    {
     "data": {
      "text/plain": [
       "13.5"
      ]
     },
     "execution_count": 12,
     "metadata": {},
     "output_type": "execute_result"
    }
   ],
   "source": [
    "sample_tuple[1]"
   ]
  },
  {
   "cell_type": "code",
   "execution_count": 16,
   "id": "74269b23-a9f9-4e30-964e-d5938106cf80",
   "metadata": {},
   "outputs": [
    {
     "ename": "TypeError",
     "evalue": "'tuple' object does not support item assignment",
     "output_type": "error",
     "traceback": [
      "\u001b[1;31m---------------------------------------------------------------------------\u001b[0m",
      "\u001b[1;31mTypeError\u001b[0m                                 Traceback (most recent call last)",
      "Cell \u001b[1;32mIn[16], line 1\u001b[0m\n\u001b[1;32m----> 1\u001b[0m \u001b[43msample_tuple\u001b[49m\u001b[43m[\u001b[49m\u001b[38;5;241;43m4\u001b[39;49m\u001b[43m]\u001b[49m\u001b[38;5;241m=\u001b[39m\u001b[38;5;241m13\u001b[39m\n\u001b[0;32m      2\u001b[0m sample_tuple\n",
      "\u001b[1;31mTypeError\u001b[0m: 'tuple' object does not support item assignment"
     ]
    }
   ],
   "source": [
    "sample_tuple[4]=13\n",
    "sample_tuple"
   ]
  },
  {
   "cell_type": "code",
   "execution_count": 17,
   "id": "d531a447-0f19-485f-8df3-8b0aedd5ea76",
   "metadata": {},
   "outputs": [],
   "source": [
    "###Set \n",
    "### doesnot allow duplicates , oredered-first place, in set elements cannot be retrieved using index\n",
    "## set is mutable\n",
    "## we can add number or string in a set \n",
    "## we can remove the same too"
   ]
  },
  {
   "cell_type": "code",
   "execution_count": 18,
   "id": "095854d8-b3ed-40f3-880f-e027db6e1a20",
   "metadata": {},
   "outputs": [
    {
     "data": {
      "text/plain": [
       "{1, 34.5, 45, 56.5555, 78, 'abhyu', 'apple'}"
      ]
     },
     "execution_count": 18,
     "metadata": {},
     "output_type": "execute_result"
    }
   ],
   "source": [
    "sample_set={1,45,34.5,\"apple\", 78,56.5555,\"abhyu\"}\n",
    "sample_set"
   ]
  },
  {
   "cell_type": "code",
   "execution_count": 20,
   "id": "63592642-897d-4357-b9e3-8e230ff38c69",
   "metadata": {},
   "outputs": [
    {
     "ename": "TypeError",
     "evalue": "'set' object is not subscriptable",
     "output_type": "error",
     "traceback": [
      "\u001b[1;31m---------------------------------------------------------------------------\u001b[0m",
      "\u001b[1;31mTypeError\u001b[0m                                 Traceback (most recent call last)",
      "Cell \u001b[1;32mIn[20], line 1\u001b[0m\n\u001b[1;32m----> 1\u001b[0m \u001b[43msample_set\u001b[49m\u001b[43m[\u001b[49m\u001b[38;5;241;43m0\u001b[39;49m\u001b[43m]\u001b[49m\n",
      "\u001b[1;31mTypeError\u001b[0m: 'set' object is not subscriptable"
     ]
    }
   ],
   "source": [
    "sample_set[0]"
   ]
  },
  {
   "cell_type": "code",
   "execution_count": 21,
   "id": "23dc0196-88e4-4973-a3b3-d5c9cc82ce4f",
   "metadata": {},
   "outputs": [
    {
     "data": {
      "text/plain": [
       "set"
      ]
     },
     "execution_count": 21,
     "metadata": {},
     "output_type": "execute_result"
    }
   ],
   "source": [
    "type(sample_set)"
   ]
  },
  {
   "cell_type": "code",
   "execution_count": 23,
   "id": "b25d4c5c-63f9-4580-90ff-dc583d082bbc",
   "metadata": {},
   "outputs": [
    {
     "data": {
      "text/plain": [
       "{1, 1000, 34.5, 45, 56.5555, 78, 'abhyu', 'apple'}"
      ]
     },
     "execution_count": 23,
     "metadata": {},
     "output_type": "execute_result"
    }
   ],
   "source": [
    "sample_set.add(1000)\n",
    "sample_set"
   ]
  },
  {
   "cell_type": "code",
   "execution_count": 24,
   "id": "20806f9a-2c02-46e2-8be3-073439098ced",
   "metadata": {},
   "outputs": [
    {
     "ename": "TypeError",
     "evalue": "'set' object does not support item assignment",
     "output_type": "error",
     "traceback": [
      "\u001b[1;31m---------------------------------------------------------------------------\u001b[0m",
      "\u001b[1;31mTypeError\u001b[0m                                 Traceback (most recent call last)",
      "Cell \u001b[1;32mIn[24], line 1\u001b[0m\n\u001b[1;32m----> 1\u001b[0m \u001b[43msample_set\u001b[49m\u001b[43m[\u001b[49m\u001b[38;5;241;43m1\u001b[39;49m\u001b[43m]\u001b[49m\u001b[38;5;241m=\u001b[39m\u001b[38;5;124m\"\u001b[39m\u001b[38;5;124manni\u001b[39m\u001b[38;5;124m\"\u001b[39m\n\u001b[0;32m      2\u001b[0m sample_set\n",
      "\u001b[1;31mTypeError\u001b[0m: 'set' object does not support item assignment"
     ]
    }
   ],
   "source": [
    "sample_set[1]=\"anni\"\n",
    "sample_set"
   ]
  },
  {
   "cell_type": "code",
   "execution_count": 25,
   "id": "72f7d165-0689-4a43-8dba-1bc2555f5e4c",
   "metadata": {},
   "outputs": [
    {
     "data": {
      "text/plain": [
       "{1, 1000, 34.5, 45, 56.5555, 78, 'abhyu'}"
      ]
     },
     "execution_count": 25,
     "metadata": {},
     "output_type": "execute_result"
    }
   ],
   "source": [
    "sample_set.remove(\"apple\")\n",
    "sample_set"
   ]
  },
  {
   "cell_type": "code",
   "execution_count": 26,
   "id": "c075416a-c18c-44aa-987a-b9778d1e6b53",
   "metadata": {},
   "outputs": [],
   "source": [
    "###Dictionary\n",
    "##has key-value pair data structure\n",
    "## key is unique\n",
    "## values can be duplicated ,values can be retrieved using key\n",
    "## key cannot be retrieved using value,mutable"
   ]
  },
  {
   "cell_type": "code",
   "execution_count": 27,
   "id": "45972ab6-76ff-436e-8ff8-965c19850203",
   "metadata": {},
   "outputs": [
    {
     "data": {
      "text/plain": [
       "{1: 'Apple', 2: 34.4, 3: 'hello', 4: 23, 5: 'king', 6: 34567}"
      ]
     },
     "execution_count": 27,
     "metadata": {},
     "output_type": "execute_result"
    }
   ],
   "source": [
    "sample_dict={1:\"Apple\",2:34.4,3:\"hello\",4:23,5:\"king\",6:34567}\n",
    "sample_dict"
   ]
  },
  {
   "cell_type": "code",
   "execution_count": 28,
   "id": "3f1d9628-b853-462c-ab6d-b4e960838452",
   "metadata": {},
   "outputs": [
    {
     "data": {
      "text/plain": [
       "dict"
      ]
     },
     "execution_count": 28,
     "metadata": {},
     "output_type": "execute_result"
    }
   ],
   "source": [
    "type(sample_dict)"
   ]
  },
  {
   "cell_type": "code",
   "execution_count": 29,
   "id": "25f6c19d-6b02-40eb-a51d-b0b96bb9f4a3",
   "metadata": {},
   "outputs": [
    {
     "data": {
      "text/plain": [
       "34.4"
      ]
     },
     "execution_count": 29,
     "metadata": {},
     "output_type": "execute_result"
    }
   ],
   "source": [
    "sample_dict[2]"
   ]
  },
  {
   "cell_type": "code",
   "execution_count": 32,
   "id": "db143072-427a-48f1-aa93-a4c7febeed63",
   "metadata": {},
   "outputs": [
    {
     "data": {
      "text/plain": [
       "{1: 12, 2: 34.4, 3: 'hello', 4: 23, 5: 'king', 6: 34567}"
      ]
     },
     "execution_count": 32,
     "metadata": {},
     "output_type": "execute_result"
    }
   ],
   "source": [
    "sample_dict[1]=12\n",
    "sample_dict"
   ]
  },
  {
   "cell_type": "code",
   "execution_count": 33,
   "id": "f46881d1-8717-42ac-b5e2-2b4ac4094217",
   "metadata": {},
   "outputs": [
    {
     "data": {
      "text/plain": [
       "{1: 12, 2: 34.4, 3: 'hello', 4: 23, 5: 'king', 6: 34567, 11: 98}"
      ]
     },
     "execution_count": 33,
     "metadata": {},
     "output_type": "execute_result"
    }
   ],
   "source": [
    "sample_dict[11]=98\n",
    "sample_dict"
   ]
  },
  {
   "cell_type": "code",
   "execution_count": null,
   "id": "9f6443f2-4bb2-47b9-86c6-dd77138d3b01",
   "metadata": {},
   "outputs": [],
   "source": []
  }
 ],
 "metadata": {
  "kernelspec": {
   "display_name": "Python 3 (ipykernel)",
   "language": "python",
   "name": "python3"
  },
  "language_info": {
   "codemirror_mode": {
    "name": "ipython",
    "version": 3
   },
   "file_extension": ".py",
   "mimetype": "text/x-python",
   "name": "python",
   "nbconvert_exporter": "python",
   "pygments_lexer": "ipython3",
   "version": "3.11.5"
  }
 },
 "nbformat": 4,
 "nbformat_minor": 5
}
